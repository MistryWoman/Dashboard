{
 "cells": [
  {
   "cell_type": "code",
   "execution_count": 94,
   "metadata": {},
   "outputs": [],
   "source": [
    "import pandas as pd\n",
    "import collections\n",
    "import matplotlib.pyplot as plt"
   ]
  },
  {
   "cell_type": "code",
   "execution_count": 95,
   "metadata": {},
   "outputs": [],
   "source": [
    "ipsn_tpc = pd.read_csv('data/Clean_TPC/ipsn_clean.csv')"
   ]
  },
  {
   "cell_type": "code",
   "execution_count": 96,
   "metadata": {},
   "outputs": [
    {
     "data": {
      "text/html": [
       "<div>\n",
       "<style scoped>\n",
       "    .dataframe tbody tr th:only-of-type {\n",
       "        vertical-align: middle;\n",
       "    }\n",
       "\n",
       "    .dataframe tbody tr th {\n",
       "        vertical-align: top;\n",
       "    }\n",
       "\n",
       "    .dataframe thead th {\n",
       "        text-align: right;\n",
       "    }\n",
       "</style>\n",
       "<table border=\"1\" class=\"dataframe\">\n",
       "  <thead>\n",
       "    <tr style=\"text-align: right;\">\n",
       "      <th></th>\n",
       "      <th>Name</th>\n",
       "      <th>University/Organization</th>\n",
       "      <th>Type of Chair</th>\n",
       "      <th>Conference</th>\n",
       "      <th>Year</th>\n",
       "    </tr>\n",
       "  </thead>\n",
       "  <tbody>\n",
       "    <tr>\n",
       "      <th>0</th>\n",
       "      <td>Bill Kaiser</td>\n",
       "      <td>University of California Los Angeles</td>\n",
       "      <td>General Chair</td>\n",
       "      <td>IPSN</td>\n",
       "      <td>2004</td>\n",
       "    </tr>\n",
       "    <tr>\n",
       "      <th>1</th>\n",
       "      <td>Sam Madden</td>\n",
       "      <td>Massachusetts Institute of Technology</td>\n",
       "      <td>Information Proc. Track Co-Chair</td>\n",
       "      <td>IPSN</td>\n",
       "      <td>2004</td>\n",
       "    </tr>\n",
       "    <tr>\n",
       "      <th>2</th>\n",
       "      <td>Subhash Suri</td>\n",
       "      <td>University of California Santa Barbara</td>\n",
       "      <td>Information Proc. Track Co-Chair</td>\n",
       "      <td>IPSN</td>\n",
       "      <td>2004</td>\n",
       "    </tr>\n",
       "    <tr>\n",
       "      <th>3</th>\n",
       "      <td>Jie Liu</td>\n",
       "      <td>Microsoft Research</td>\n",
       "      <td>SPOTS Track Co-Chair</td>\n",
       "      <td>IPSN</td>\n",
       "      <td>2004</td>\n",
       "    </tr>\n",
       "    <tr>\n",
       "      <th>4</th>\n",
       "      <td>Andreas Savvides</td>\n",
       "      <td>Yale</td>\n",
       "      <td>SPOTS Track Co-Chair</td>\n",
       "      <td>IPSN</td>\n",
       "      <td>2004</td>\n",
       "    </tr>\n",
       "    <tr>\n",
       "      <th>5</th>\n",
       "      <td>Andreas Terzis</td>\n",
       "      <td>Johns Hopkins University</td>\n",
       "      <td>Poster Chair</td>\n",
       "      <td>IPSN</td>\n",
       "      <td>2004</td>\n",
       "    </tr>\n",
       "    <tr>\n",
       "      <th>6</th>\n",
       "      <td>Ralph Kling</td>\n",
       "      <td>Crossbow</td>\n",
       "      <td>Demonstration Chair</td>\n",
       "      <td>IPSN</td>\n",
       "      <td>2004</td>\n",
       "    </tr>\n",
       "    <tr>\n",
       "      <th>7</th>\n",
       "      <td>Kamin Whitehouse</td>\n",
       "      <td>University of Virginia</td>\n",
       "      <td>Competition Chair</td>\n",
       "      <td>IPSN</td>\n",
       "      <td>2004</td>\n",
       "    </tr>\n",
       "  </tbody>\n",
       "</table>\n",
       "</div>"
      ],
      "text/plain": [
       "               Name                 University/Organization  \\\n",
       "0       Bill Kaiser    University of California Los Angeles   \n",
       "1        Sam Madden   Massachusetts Institute of Technology   \n",
       "2      Subhash Suri  University of California Santa Barbara   \n",
       "3           Jie Liu                      Microsoft Research   \n",
       "4  Andreas Savvides                                    Yale   \n",
       "5    Andreas Terzis                Johns Hopkins University   \n",
       "6       Ralph Kling                                Crossbow   \n",
       "7  Kamin Whitehouse                  University of Virginia   \n",
       "\n",
       "                      Type of Chair Conference  Year  \n",
       "0                     General Chair       IPSN  2004  \n",
       "1  Information Proc. Track Co-Chair       IPSN  2004  \n",
       "2  Information Proc. Track Co-Chair       IPSN  2004  \n",
       "3              SPOTS Track Co-Chair       IPSN  2004  \n",
       "4              SPOTS Track Co-Chair       IPSN  2004  \n",
       "5                      Poster Chair       IPSN  2004  \n",
       "6               Demonstration Chair       IPSN  2004  \n",
       "7                 Competition Chair       IPSN  2004  "
      ]
     },
     "execution_count": 96,
     "metadata": {},
     "output_type": "execute_result"
    }
   ],
   "source": [
    "ipsn_tpc.head(8)"
   ]
  },
  {
   "cell_type": "code",
   "execution_count": 97,
   "metadata": {},
   "outputs": [
    {
     "data": {
      "text/plain": [
       "15"
      ]
     },
     "execution_count": 97,
     "metadata": {},
     "output_type": "execute_result"
    }
   ],
   "source": [
    "ipsn_tpc['Year'].max() - ipsn_tpc['Year'].min()"
   ]
  },
  {
   "cell_type": "code",
   "execution_count": 98,
   "metadata": {
    "scrolled": true
   },
   "outputs": [],
   "source": [
    "name_uni = []\n",
    "for row_no in range(len(ipsn_tpc)):\n",
    "    name = ipsn_tpc['Name'][row_no]\n",
    "    uni = ipsn_tpc['University/Organization'][row_no]\n",
    "    name_uni.append((name, uni))"
   ]
  },
  {
   "cell_type": "code",
   "execution_count": 113,
   "metadata": {},
   "outputs": [],
   "source": [
    "influence = dict(collections.Counter(name_uni))\n",
    "influential_people = dict()\n",
    "for key in influence.keys():\n",
    "    if influence[key] > 5:\n",
    "        influential_people[key] = influence[key]"
   ]
  },
  {
   "cell_type": "code",
   "execution_count": 114,
   "metadata": {},
   "outputs": [
    {
     "data": {
      "text/plain": [
       "{('Jie Liu', 'Microsoft Research'): 7,\n",
       " ('Andreas Terzis', 'Johns Hopkins University'): 9,\n",
       " ('Ralph Kling', 'Crossbow'): 6,\n",
       " ('Kamin Whitehouse', 'University of Virginia'): 14,\n",
       " ('Tarek Abdelzaher', 'University of Illinois Urbana Champaign'): 16,\n",
       " ('Jie Gao', 'Stony Brook University'): 8,\n",
       " ('Feng Zhao', 'Microsoft Research'): 7,\n",
       " ('Deborah Estrin', 'University of California Los Angeles'): 11,\n",
       " ('Leo Guibas', 'Stanford'): 11,\n",
       " ('John Stankovic', 'University of Virginia'): 9,\n",
       " ('Janos Sztipanovits', 'Vanderbilt University'): 12,\n",
       " ('Suman Nath', 'Microsoft Research'): 8,\n",
       " ('Koen Langendoen', 'TU Delft'): 10,\n",
       " ('Akos Ledeczi', 'Vanderbilt University'): 7,\n",
       " ('Tian He', 'University of Minnesota'): 8,\n",
       " ('Omprakash Gnawali', 'University of Houston'): 8,\n",
       " ('Bhaskar Krishnamachari', 'University of Southern California'): 10,\n",
       " ('Anthony Rowe', 'Carnegie Mellon University'): 6,\n",
       " ('Pei Zhang', 'Carnegie Mellon University'): 7,\n",
       " ('Andreas Savvides', 'Yale University'): 6,\n",
       " ('Xenofon Koutsoukos', 'Vanderbilt University'): 6,\n",
       " ('Mani Srivastava', 'University of California Los Angeles'): 6}"
      ]
     },
     "execution_count": 114,
     "metadata": {},
     "output_type": "execute_result"
    }
   ],
   "source": [
    "influential_people"
   ]
  },
  {
   "cell_type": "code",
   "execution_count": 52,
   "metadata": {},
   "outputs": [],
   "source": [
    "uni = dict(collections.Counter(ipsn_tpc['University/Organization']))\n",
    "\n",
    "filtered_uni = dict()\n",
    "\n",
    "for key in uni.keys():\n",
    "    if uni[key] > 15:\n",
    "        filtered_uni[key] = uni[key]"
   ]
  },
  {
   "cell_type": "code",
   "execution_count": 101,
   "metadata": {},
   "outputs": [],
   "source": [
    "# filtered_uni"
   ]
  },
  {
   "cell_type": "code",
   "execution_count": 102,
   "metadata": {},
   "outputs": [],
   "source": [
    "ipsn_authors = pd.read_csv('data/Clean_Authors/ipsn_authors.csv')\n",
    "# ipsn_authors.head()"
   ]
  },
  {
   "cell_type": "code",
   "execution_count": 103,
   "metadata": {},
   "outputs": [],
   "source": [
    "auth_uni = set()\n",
    "for row in range(len(ipsn_authors)):\n",
    "    name = ipsn_authors['Author_Name'][row]\n",
    "    uni = ipsn_authors['University/Organization'][row]\n",
    "    auth_uni.add((name, uni))"
   ]
  },
  {
   "cell_type": "code",
   "execution_count": 104,
   "metadata": {
    "scrolled": true
   },
   "outputs": [],
   "source": [
    "top_uni = []\n",
    "for tup in auth_uni:\n",
    "    top_uni.append(tup[1])\n",
    "    \n",
    "people_featured = dict(collections.Counter(top_uni))"
   ]
  },
  {
   "cell_type": "markdown",
   "metadata": {},
   "source": [
    "### This implies that this many number of people from the said university have been published in the conference"
   ]
  },
  {
   "cell_type": "code",
   "execution_count": 110,
   "metadata": {},
   "outputs": [
    {
     "data": {
      "text/plain": [
       "{'Carnegie Mellon University': 66,\n",
       " nan: 42,\n",
       " 'Stanford': 29,\n",
       " 'Massachusetts Institute of Technology': 37,\n",
       " 'Rice University': 21,\n",
       " 'University of California Los Angeles': 48,\n",
       " 'University of Southern California': 28,\n",
       " 'University of California Berkeley': 58,\n",
       " 'University of Illinois Urbana Champaign': 38,\n",
       " 'Rutgers University': 21,\n",
       " 'University of Virginia': 26,\n",
       " 'Tsinghua University': 31,\n",
       " 'ETH Zurich': 35,\n",
       " 'University of Michigan Ann Arbor': 24}"
      ]
     },
     "execution_count": 110,
     "metadata": {},
     "output_type": "execute_result"
    }
   ],
   "source": [
    "top_people = dict()\n",
    "\n",
    "for key in people_featured.keys():\n",
    "    if people_featured[key] > 20:\n",
    "        top_people[key] = people_featured[key]\n",
    "        \n",
    "top_people"
   ]
  },
  {
   "cell_type": "code",
   "execution_count": 74,
   "metadata": {},
   "outputs": [],
   "source": [
    "ipsn_auth = dict(collections.Counter(ipsn_authors['University/Organization']))\n",
    "\n",
    "top_uni = {}\n",
    "for key in ipsn_auth.keys():\n",
    "    if ipsn_auth[key] > 20:\n",
    "        top_uni[key] = ipsn_auth[key]"
   ]
  },
  {
   "cell_type": "code",
   "execution_count": 75,
   "metadata": {},
   "outputs": [
    {
     "data": {
      "text/plain": [
       "{'Microsoft Research': 33,\n",
       " nan: 42,\n",
       " 'Massachusetts Institute of Technology': 44,\n",
       " 'Rice University': 25,\n",
       " 'Stanford': 39,\n",
       " 'University of California Berkeley': 104,\n",
       " 'University of Southern California': 43,\n",
       " 'University of Wisconsin Madison': 25,\n",
       " 'University of California Los Angeles': 76,\n",
       " 'University of California Santa Barbara': 21,\n",
       " 'Carnegie Mellon University': 108,\n",
       " 'University of Michigan Ann Arbor': 33,\n",
       " 'University of Illinois Urbana Champaign': 51,\n",
       " 'Ohio State University': 25,\n",
       " 'ETH Zurich': 62,\n",
       " 'Tsinghua University': 43,\n",
       " 'Rutgers University': 39,\n",
       " 'University of New South Wales': 36,\n",
       " 'National Chung-Cheng University': 22,\n",
       " 'University of Virginia': 43,\n",
       " 'University of Utah': 28,\n",
       " 'Michigan State University': 24,\n",
       " 'Swedish Institute of Computer Science': 25,\n",
       " 'CSIRO ICT Centre': 23}"
      ]
     },
     "execution_count": 75,
     "metadata": {},
     "output_type": "execute_result"
    }
   ],
   "source": [
    "\n",
    "top_uni"
   ]
  }
 ],
 "metadata": {
  "kernelspec": {
   "display_name": "Python 3",
   "language": "python",
   "name": "python3"
  },
  "language_info": {
   "codemirror_mode": {
    "name": "ipython",
    "version": 3
   },
   "file_extension": ".py",
   "mimetype": "text/x-python",
   "name": "python",
   "nbconvert_exporter": "python",
   "pygments_lexer": "ipython3",
   "version": "3.6.9"
  }
 },
 "nbformat": 4,
 "nbformat_minor": 4
}
