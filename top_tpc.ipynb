{
 "cells": [
  {
   "cell_type": "markdown",
   "metadata": {},
   "source": [
    "## Creating a csv file to document the number of times an individual has been selected as TPC"
   ]
  },
  {
   "cell_type": "code",
   "execution_count": 1,
   "metadata": {},
   "outputs": [],
   "source": [
    "import pandas as pd\n",
    "import os\n",
    "import collections"
   ]
  },
  {
   "cell_type": "code",
   "execution_count": 2,
   "metadata": {},
   "outputs": [],
   "source": [
    "ipsn_df = pd.read_csv('data/Clean_TPC/ipsn_clean.csv')\n",
    "\n",
    "mobicom_df = pd.read_csv('data/Clean_TPC/mobicom_clean.csv')\n",
    "\n",
    "mobihoc_df = pd.read_csv('data/Clean_TPC/mobihoc_clean.csv')\n",
    "\n",
    "sensys_df = pd.read_csv('data/Clean_TPC/sensys_clean.csv')\n",
    "\n",
    "sigcomm_df = pd.read_csv('data/Clean_TPC/sigcomm_clean.csv')"
   ]
  },
  {
   "cell_type": "code",
   "execution_count": 3,
   "metadata": {},
   "outputs": [],
   "source": [
    "def name_uni(df):\n",
    "    \"Given the df for conf returns a dictionary of name, uni and no of times a person has been TPC for the conference\"\n",
    "    \n",
    "    name_list = []\n",
    "    for row_no in range(len(df)):\n",
    "        name = df['Name'][row_no]\n",
    "        uni = df['University/Organization'][row_no]\n",
    "        name_list.append((name, uni))\n",
    "        \n",
    "    return dict(collections.Counter(name_list))"
   ]
  },
  {
   "cell_type": "code",
   "execution_count": 22,
   "metadata": {},
   "outputs": [
    {
     "data": {
      "text/plain": [
       "4"
      ]
     },
     "execution_count": 22,
     "metadata": {},
     "output_type": "execute_result"
    }
   ],
   "source": [
    "name_uni(ipsn_df)[list(name_uni(ipsn_df).keys())[0]]"
   ]
  },
  {
   "cell_type": "code",
   "execution_count": 4,
   "metadata": {},
   "outputs": [],
   "source": [
    "def create_df(df):\n",
    "    \"Given the df creates a df with name, university and count of times being TPC\"\n",
    "    tpc_dict = name_uni(df)\n",
    "    tpc_dict_keys = list(tpc_dict.keys())\n",
    "    name = []\n",
    "    uni = []\n",
    "    count = []\n",
    "    for key in tpc_dict_keys:\n",
    "        name.append(key[0])\n",
    "        uni.append(key[1])\n",
    "        count.append(tpc_dict[key])\n",
    "        \n",
    "    df = pd.DataFrame(list(zip(name, uni, count)), columns = ['Name', 'University/Organization', 'No_of_times_as_TPC'])\n",
    "        \n",
    "    return df"
   ]
  },
  {
   "cell_type": "code",
   "execution_count": 6,
   "metadata": {},
   "outputs": [],
   "source": [
    "top_ipsn_tpc = create_df(ipsn_df)\n",
    "top_ipsn_tpc.to_csv('data/Clean_TPC/top_ipsn_tpc.csv', header = True, index = False)\n",
    "\n",
    "top_mobicom_tpc = create_df(mobicom_df)\n",
    "top_mobicom_tpc.to_csv('data/Clean_TPC/top_mobicom_tpc.csv', header = True, index = False)\n",
    "\n",
    "top_mobihoc_tpc = create_df(mobihoc_df)\n",
    "top_mobihoc_tpc.to_csv('data/Clean_TPC/top_mobihoc_tpc.csv', header = True, index = False)\n",
    "\n",
    "top_sigcomm_tpc = create_df(sigcomm_df)\n",
    "top_sigcomm_tpc.to_csv('data/Clean_TPC/top_sigcomm_tpc.csv', header = True, index = False)\n",
    "\n",
    "top_sensys_tpc = create_df(sensys_df)\n",
    "top_sensys_tpc.to_csv('data/Clean_TPC/top_sensys_tpc.csv', header = True, index = False)\n",
    "\n"
   ]
  }
 ],
 "metadata": {
  "kernelspec": {
   "display_name": "Python 3",
   "language": "python",
   "name": "python3"
  },
  "language_info": {
   "codemirror_mode": {
    "name": "ipython",
    "version": 3
   },
   "file_extension": ".py",
   "mimetype": "text/x-python",
   "name": "python",
   "nbconvert_exporter": "python",
   "pygments_lexer": "ipython3",
   "version": "3.6.9"
  }
 },
 "nbformat": 4,
 "nbformat_minor": 4
}
