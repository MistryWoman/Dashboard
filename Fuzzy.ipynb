{
 "cells": [
  {
   "cell_type": "code",
   "execution_count": 1,
   "metadata": {},
   "outputs": [],
   "source": [
    "import pandas as pd\n",
    "import collections\n",
    "import os\n",
    "from nltk.corpus import stopwords\n",
    "from nltk.tokenize import word_tokenize\n",
    "stop_words = set(stopwords.words('english')) \n",
    "punc = set([',', '-', '/', '.', '  ', 'university', 'research', 'center', 'institute'])\n",
    "stop_words.update(punc)\n"
   ]
  },
  {
   "cell_type": "markdown",
   "metadata": {},
   "source": [
    "# creating fuzzy string match function"
   ]
  },
  {
   "cell_type": "code",
   "execution_count": 3,
   "metadata": {},
   "outputs": [
    {
     "name": "stderr",
     "output_type": "stream",
     "text": [
      "/home/komal/.local/lib/python3.6/site-packages/fuzzywuzzy/fuzz.py:11: UserWarning: Using slow pure-python SequenceMatcher. Install python-Levenshtein to remove this warning\n",
      "  warnings.warn('Using slow pure-python SequenceMatcher. Install python-Levenshtein to remove this warning')\n"
     ]
    },
    {
     "data": {
      "text/plain": [
       "100"
      ]
     },
     "execution_count": 3,
     "metadata": {},
     "output_type": "execute_result"
    }
   ],
   "source": [
    "from fuzzywuzzy import fuzz\n",
    "\n",
    "key = 'University of Illinois Urbana - Champaign'\n",
    "value = 'University of Illinois at Urbana, Champaign'\n",
    "\n",
    "def clean(name):\n",
    "    name = name.lower()\n",
    "    clean_name = []\n",
    "    tok = word_tokenize(name)\n",
    "    for token in tok:\n",
    "        if token in stop_words:\n",
    "            continue\n",
    "        else:\n",
    "            clean_name.append(token)\n",
    "    return \" \".join(clean_name)\n",
    "\n",
    "\n",
    "def fuzzy(key, value):\n",
    "    key = clean(key)\n",
    "    value = clean(value)\n",
    "    fuzz_score = fuzz.token_set_ratio(key, value)\n",
    "    return fuzz_score\n",
    "\n",
    "fuzzy('University of British Columbia', 'U British Columbia')"
   ]
  },
  {
   "cell_type": "markdown",
   "metadata": {},
   "source": [
    "# Reading all the data"
   ]
  },
  {
   "cell_type": "code",
   "execution_count": 4,
   "metadata": {},
   "outputs": [],
   "source": [
    "#creating a csv file to contain all the conferences TPC details\n",
    "\n",
    "ipsn_tpc = pd.read_csv('data/Clean_TPC/ipsn_clean.csv')\n",
    "ipsn_auth = pd.read_csv('data/Clean_Authors/ipsn_authors.csv')\n",
    "\n",
    "mobicom_tpc = pd.read_csv('data/Clean_TPC/mobicom_clean.csv')\n",
    "mobicom_auth = pd.read_csv('data/Clean_Authors/mobicom_authors.csv')\n",
    "\n",
    "mobihoc_tpc = pd.read_csv('data/Clean_TPC/mobihoc_clean.csv')\n",
    "mobihoc_auth = pd.read_csv('data/Clean_Authors/mobihoc_authors.csv')\n",
    "\n",
    "sensys_tpc = pd.read_csv('data/Clean_TPC/sensys_clean.csv')\n",
    "sensys_auth = pd.read_csv('data/Clean_Authors/sensys_authors.csv')\n",
    "\n",
    "sigcomm_tpc = pd.read_csv('data/Clean_TPC/sigcomm_clean.csv')\n",
    "sigcomm_auth = pd.read_csv('data/Clean_Authors/sigcomm_authors.csv')"
   ]
  },
  {
   "cell_type": "code",
   "execution_count": 42,
   "metadata": {},
   "outputs": [],
   "source": [
    "def tpc_auth_pub(author_df, tpc_df):\n",
    "    \"Given the auth and tpc df for a conference returns \"\n",
    "    \n",
    "    tpc_count = collections.Counter(tpc_df['University/Organization'])\n",
    "    tpc_count_df = pd.DataFrame(list(zip(tpc_count.keys(), tpc_count.values())), columns = ['University/Organization', 'No_of_tpc'])\n",
    "\n",
    "    auth_count = collections.Counter(author_df['University/Organization'])\n",
    "    auth_count_df = pd.DataFrame(list(zip(auth_count.keys(), auth_count.values())), columns = ['University/Organization', 'No_of_authors'])\n",
    "\n",
    "    paper_uni = set()\n",
    "    uni_paper_dict = collections.defaultdict(int)\n",
    "    for index in range(len(ipsn_auth)):\n",
    "        uni = ipsn_auth['University/Organization'][index]\n",
    "        paper = ipsn_auth['Paper_title'][index]\n",
    "\n",
    "        paper_uni.add((uni, paper))\n",
    "\n",
    "    for pap_uni in paper_uni:\n",
    "        university, paper = pap_uni\n",
    "        if university not in uni_paper_dict.keys():\n",
    "            uni_paper_dict[university] = 1\n",
    "        elif university in uni_paper_dict.keys():\n",
    "            uni_paper_dict[university] += 1\n",
    "\n",
    "    pub_count = pd.DataFrame(list(zip(uni_paper_dict.keys(), uni_paper_dict.values())), columns = ['University/Organization', 'No_of_publications'])\n",
    "    \n",
    "    tpc_auth = pd.merge(left = tpc_count_df, right = auth_count_df, left_on='University/Organization', right_on='University/Organization')\n",
    "    \n",
    "    final_df = pd.merge(left = tpc_auth, right = pub_count, left_on='University/Organization', right_on='University/Organization')\n",
    "    \n",
    "    return final_df"
   ]
  },
  {
   "cell_type": "code",
   "execution_count": 46,
   "metadata": {},
   "outputs": [],
   "source": [
    "ipsn_bubble = tpc_auth_pub(ipsn_auth, ipsn_tpc)\n",
    "ipsn_bubble.to_csv('data/Bubble/ipsn_bubble.csv', header = True, index = None)"
   ]
  },
  {
   "cell_type": "code",
   "execution_count": 47,
   "metadata": {},
   "outputs": [],
   "source": [
    "sensys_bubble = tpc_auth_pub(sensys_auth, sensys_tpc)\n",
    "sensys_bubble.to_csv('data/Bubble/sensys_bubble.csv', header = True, index = None)"
   ]
  },
  {
   "cell_type": "code",
   "execution_count": 48,
   "metadata": {},
   "outputs": [],
   "source": [
    "sigcomm_bubble = tpc_auth_pub(sigcomm_auth, sigcomm_tpc)\n",
    "sigcomm_bubble.to_csv('data/Bubble/sigcomm_bubble.csv', header = True, index = None)"
   ]
  },
  {
   "cell_type": "code",
   "execution_count": 49,
   "metadata": {},
   "outputs": [],
   "source": [
    "mobicom_bubble = tpc_auth_pub(mobicom_auth, mobicom_tpc)\n",
    "mobicom_bubble.to_csv('data/Bubble/mobicom_bubble.csv', header = True, index = None)"
   ]
  },
  {
   "cell_type": "code",
   "execution_count": 50,
   "metadata": {},
   "outputs": [],
   "source": [
    "mobihoc_bubble = tpc_auth_pub(mobihoc_auth, mobihoc_tpc)\n",
    "mobihoc_bubble.to_csv('data/Bubble/mobihoc_bubble.csv', header = True, index = None)"
   ]
  }
 ],
 "metadata": {
  "kernelspec": {
   "display_name": "Python 3",
   "language": "python",
   "name": "python3"
  },
  "language_info": {
   "codemirror_mode": {
    "name": "ipython",
    "version": 3
   },
   "file_extension": ".py",
   "mimetype": "text/x-python",
   "name": "python",
   "nbconvert_exporter": "python",
   "pygments_lexer": "ipython3",
   "version": "3.6.9"
  }
 },
 "nbformat": 4,
 "nbformat_minor": 4
}
