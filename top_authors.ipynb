{
 "cells": [
  {
   "cell_type": "code",
   "execution_count": 2,
   "metadata": {},
   "outputs": [],
   "source": [
    "import pandas as pd\n",
    "import os\n",
    "import collections"
   ]
  },
  {
   "cell_type": "code",
   "execution_count": 5,
   "metadata": {},
   "outputs": [],
   "source": [
    "ipsn_df = pd.read_csv('data/Clean_Authors/ipsn_authors.csv')\n",
    "\n",
    "mobicom_df = pd.read_csv('data/Clean_Authors/mobicom_authors.csv')\n",
    "\n",
    "mobihoc_df = pd.read_csv('data/Clean_Authors/mobihoc_authors.csv')\n",
    "\n",
    "sigcomm_df = pd.read_csv('data/Clean_Authors/sigcomm_authors.csv')\n",
    "\n",
    "sensys_df = pd.read_csv('data/Clean_Authors/sensys_authors.csv')"
   ]
  },
  {
   "cell_type": "markdown",
   "metadata": {},
   "source": [
    "## Extracting the years for the conference"
   ]
  },
  {
   "cell_type": "code",
   "execution_count": 6,
   "metadata": {},
   "outputs": [
    {
     "data": {
      "text/plain": [
       "[2004, 2006, 2007, 2008, 2010, 2011, 2013, 2015, 2017, 2018, 2019]"
      ]
     },
     "execution_count": 6,
     "metadata": {},
     "output_type": "execute_result"
    }
   ],
   "source": [
    "def conf_years(conf_df):\n",
    "    \"Given the df for a conference returns the list of years \"\n",
    "    year_list = list(set(df['Year']))\n",
    "    year_list.sort()\n",
    "    return year_list\n",
    "\n",
    "conf_years(ipsn_df)"
   ]
  },
  {
   "cell_type": "code",
   "execution_count": 8,
   "metadata": {},
   "outputs": [],
   "source": [
    "year_dict = collections.defaultdict(list)\n",
    "\n",
    "year_dict['ipsn'] = conf_years(ipsn_df)\n",
    "\n",
    "year_dict['mobicom'] = conf_years(mobicom_df)\n",
    "\n",
    "year_dict['mobihoc'] = conf_years(mobihoc_df)\n",
    "\n",
    "year_dict['sensys'] = conf_years(sensys_df)\n",
    "\n",
    "year_dict['sigcomm'] = conf_years(sigcomm_df)"
   ]
  },
  {
   "cell_type": "code",
   "execution_count": 9,
   "metadata": {},
   "outputs": [
    {
     "data": {
      "text/plain": [
       "defaultdict(list,\n",
       "            {'ipsn': [2004,\n",
       "              2006,\n",
       "              2007,\n",
       "              2008,\n",
       "              2010,\n",
       "              2011,\n",
       "              2013,\n",
       "              2015,\n",
       "              2017,\n",
       "              2018,\n",
       "              2019],\n",
       "             'mobicom': [2004,\n",
       "              2006,\n",
       "              2007,\n",
       "              2008,\n",
       "              2010,\n",
       "              2011,\n",
       "              2013,\n",
       "              2015,\n",
       "              2017,\n",
       "              2018,\n",
       "              2019],\n",
       "             'mobihoc': [2004,\n",
       "              2006,\n",
       "              2007,\n",
       "              2008,\n",
       "              2010,\n",
       "              2011,\n",
       "              2013,\n",
       "              2015,\n",
       "              2017,\n",
       "              2018,\n",
       "              2019],\n",
       "             'sensys': [2004,\n",
       "              2006,\n",
       "              2007,\n",
       "              2008,\n",
       "              2010,\n",
       "              2011,\n",
       "              2013,\n",
       "              2015,\n",
       "              2017,\n",
       "              2018,\n",
       "              2019],\n",
       "             'sigcomm': [2004,\n",
       "              2006,\n",
       "              2007,\n",
       "              2008,\n",
       "              2010,\n",
       "              2011,\n",
       "              2013,\n",
       "              2015,\n",
       "              2017,\n",
       "              2018,\n",
       "              2019]})"
      ]
     },
     "execution_count": 9,
     "metadata": {},
     "output_type": "execute_result"
    }
   ],
   "source": [
    "year_dict"
   ]
  }
 ],
 "metadata": {
  "kernelspec": {
   "display_name": "Python 3",
   "language": "python",
   "name": "python3"
  },
  "language_info": {
   "codemirror_mode": {
    "name": "ipython",
    "version": 3
   },
   "file_extension": ".py",
   "mimetype": "text/x-python",
   "name": "python",
   "nbconvert_exporter": "python",
   "pygments_lexer": "ipython3",
   "version": "3.6.9"
  }
 },
 "nbformat": 4,
 "nbformat_minor": 4
}
