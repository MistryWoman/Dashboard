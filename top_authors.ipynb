{
 "cells": [
  {
   "cell_type": "code",
   "execution_count": 1,
   "metadata": {},
   "outputs": [],
   "source": [
    "import pandas as pd\n",
    "import os\n",
    "import collections"
   ]
  },
  {
   "cell_type": "code",
   "execution_count": 2,
   "metadata": {},
   "outputs": [],
   "source": [
    "ipsn_df = pd.read_csv('data/Clean_Authors/ipsn_authors.csv')\n",
    "\n",
    "mobicom_df = pd.read_csv('data/Clean_Authors/mobicom_authors.csv')\n",
    "\n",
    "mobihoc_df = pd.read_csv('data/Clean_Authors/mobihoc_authors.csv')\n",
    "\n",
    "sigcomm_df = pd.read_csv('data/Clean_Authors/sigcomm_authors.csv')\n",
    "\n",
    "sensys_df = pd.read_csv('data/Clean_Authors/sensys_authors.csv')"
   ]
  },
  {
   "cell_type": "code",
   "execution_count": 7,
   "metadata": {},
   "outputs": [],
   "source": [
    "df = pd.read_csv('data/Clean_Authors/ipsn_authors.csv')\n",
    "df = df[df['Year'] == 2008]\n",
    "uni_count = dict(collections.Counter(df['University/Organization']))\n",
    "top = ['Microsoft Research', 'Stanford']\n",
    "\n",
    "rank = []\n",
    "no_of_authors = []\n",
    "for key in uni_count.keys():\n",
    "    if key in top:\n",
    "        rank.append('Top 20')\n",
    "        no_of_authors.append(uni_count[key])\n",
    "    else:\n",
    "        rank.append('Other')\n",
    "        no_of_authors.append(uni_count[key])\n",
    "        \n",
    "# pd.DataFrame(list(zip(rank, no_of_authors)), columns = ['Rank', 'No_of_authors'])"
   ]
  },
  {
   "cell_type": "code",
   "execution_count": null,
   "metadata": {},
   "outputs": [],
   "source": [
    "import plotly.express as px\n",
    "# This dataframe has 244 lines, but 4 distinct values for `day`\n",
    "df = px.data.tips()\n",
    "fig = px.pie(df, values='tip', names='day')\n",
    "fig.show()"
   ]
  },
  {
   "cell_type": "markdown",
   "metadata": {},
   "source": [
    "## Extracting the years for the conference"
   ]
  },
  {
   "cell_type": "code",
   "execution_count": 19,
   "metadata": {},
   "outputs": [
    {
     "data": {
      "text/plain": [
       "['ipsn_2004',\n",
       " 'ipsn_2006',\n",
       " 'ipsn_2007',\n",
       " 'ipsn_2008',\n",
       " 'ipsn_2010',\n",
       " 'ipsn_2011',\n",
       " 'ipsn_2013',\n",
       " 'ipsn_2015',\n",
       " 'ipsn_2017',\n",
       " 'ipsn_2018',\n",
       " 'ipsn_2019']"
      ]
     },
     "execution_count": 19,
     "metadata": {},
     "output_type": "execute_result"
    }
   ],
   "source": [
    "def conf_years(conf, conf_df):\n",
    "    \"Given the conf name and the dataframe for the same returns a list of the years for that conference \"\n",
    "    year_list = list(set(conf_df['Year']))\n",
    "    year_list.sort()\n",
    "    \n",
    "    new_year_list = []\n",
    "    for year in year_list:\n",
    "        year = str(conf) + \"_\" + str(year)\n",
    "        new_year_list.append(year)\n",
    "    \n",
    "    return new_year_list\n",
    "\n",
    "ip = conf_years('ipsn', ipsn_df)\n",
    "ip"
   ]
  },
  {
   "cell_type": "code",
   "execution_count": 21,
   "metadata": {},
   "outputs": [],
   "source": [
    "year_dict = collections.defaultdict(list)\n",
    "\n",
    "year_dict['ipsn'] = conf_years('ipsn', ipsn_df)\n",
    "\n",
    "year_dict['mobicom'] = conf_years('mobicom', mobicom_df)\n",
    "\n",
    "year_dict['mobihoc'] = conf_years('mobihoc', mobihoc_df)\n",
    "\n",
    "year_dict['sensys'] = conf_years('sensys', sensys_df)\n",
    "\n",
    "year_dict['sigcomm'] = conf_years('sigcomm', sigcomm_df)"
   ]
  },
  {
   "cell_type": "code",
   "execution_count": 22,
   "metadata": {},
   "outputs": [
    {
     "data": {
      "text/plain": [
       "defaultdict(list,\n",
       "            {'ipsn': ['ipsn_2004',\n",
       "              'ipsn_2006',\n",
       "              'ipsn_2007',\n",
       "              'ipsn_2008',\n",
       "              'ipsn_2010',\n",
       "              'ipsn_2011',\n",
       "              'ipsn_2013',\n",
       "              'ipsn_2015',\n",
       "              'ipsn_2017',\n",
       "              'ipsn_2018',\n",
       "              'ipsn_2019'],\n",
       "             'mobicom': ['mobicom_2000',\n",
       "              'mobicom_2001',\n",
       "              'mobicom_2002',\n",
       "              'mobicom_2003',\n",
       "              'mobicom_2004',\n",
       "              'mobicom_2005',\n",
       "              'mobicom_2006',\n",
       "              'mobicom_2007',\n",
       "              'mobicom_2008',\n",
       "              'mobicom_2010',\n",
       "              'mobicom_2011',\n",
       "              'mobicom_2012',\n",
       "              'mobicom_2013',\n",
       "              'mobicom_2014',\n",
       "              'mobicom_2015',\n",
       "              'mobicom_2016',\n",
       "              'mobicom_2017',\n",
       "              'mobicom_2018',\n",
       "              'mobicom_2019'],\n",
       "             'mobihoc': ['mobihoc_2001',\n",
       "              'mobihoc_2002',\n",
       "              'mobihoc_2003',\n",
       "              'mobihoc_2004',\n",
       "              'mobihoc_2005',\n",
       "              'mobihoc_2006',\n",
       "              'mobihoc_2007',\n",
       "              'mobihoc_2008',\n",
       "              'mobihoc_2009',\n",
       "              'mobihoc_2010',\n",
       "              'mobihoc_2011',\n",
       "              'mobihoc_2012',\n",
       "              'mobihoc_2013',\n",
       "              'mobihoc_2014',\n",
       "              'mobihoc_2015',\n",
       "              'mobihoc_2016',\n",
       "              'mobihoc_2017',\n",
       "              'mobihoc_2018',\n",
       "              'mobihoc_2019'],\n",
       "             'sensys': ['sensys_2003',\n",
       "              'sensys_2004',\n",
       "              'sensys_2005',\n",
       "              'sensys_2006',\n",
       "              'sensys_2007',\n",
       "              'sensys_2008',\n",
       "              'sensys_2009',\n",
       "              'sensys_2010',\n",
       "              'sensys_2011',\n",
       "              'sensys_2012',\n",
       "              'sensys_2013',\n",
       "              'sensys_2014',\n",
       "              'sensys_2015',\n",
       "              'sensys_2016',\n",
       "              'sensys_2018',\n",
       "              'sensys_2019'],\n",
       "             'sigcomm': ['sigcomm_2000',\n",
       "              'sigcomm_2001',\n",
       "              'sigcomm_2002',\n",
       "              'sigcomm_2003',\n",
       "              'sigcomm_2004',\n",
       "              'sigcomm_2005',\n",
       "              'sigcomm_2006',\n",
       "              'sigcomm_2007',\n",
       "              'sigcomm_2008',\n",
       "              'sigcomm_2009',\n",
       "              'sigcomm_2010',\n",
       "              'sigcomm_2011',\n",
       "              'sigcomm_2012',\n",
       "              'sigcomm_2013',\n",
       "              'sigcomm_2014',\n",
       "              'sigcomm_2015',\n",
       "              'sigcomm_2016',\n",
       "              'sigcomm_2018',\n",
       "              'sigcomm_2020']})"
      ]
     },
     "execution_count": 22,
     "metadata": {},
     "output_type": "execute_result"
    }
   ],
   "source": [
    "year_dict"
   ]
  },
  {
   "cell_type": "code",
   "execution_count": 16,
   "metadata": {},
   "outputs": [
    {
     "name": "stdout",
     "output_type": "stream",
     "text": [
      "2004\n",
      "***\n",
      "2006\n",
      "***\n",
      "2007\n",
      "***\n",
      "2008\n",
      "***\n",
      "2010\n",
      "***\n",
      "2011\n",
      "***\n",
      "2013\n",
      "***\n",
      "2015\n",
      "***\n",
      "2017\n",
      "***\n",
      "2018\n",
      "***\n",
      "2019\n",
      "***\n"
     ]
    }
   ],
   "source": [
    "for year in year_dict['ipsn']:\n",
    "    year = str(year) + '_' + str('ipsn')\n",
    "    year_dict[year]\n",
    "\n"
   ]
  },
  {
   "cell_type": "code",
   "execution_count": 3,
   "metadata": {},
   "outputs": [],
   "source": [
    "conf = 'ipsn'"
   ]
  },
  {
   "cell_type": "code",
   "execution_count": 4,
   "metadata": {},
   "outputs": [],
   "source": [
    "ipsn_tpc = pd.read_csv('data/Clean_TPC/' + str(conf) + \"_clean.csv\")\n",
    "ip_04 = ipsn_tpc[ipsn_tpc['Year'] == 2004]\n",
    "# ip_04"
   ]
  },
  {
   "cell_type": "code",
   "execution_count": 5,
   "metadata": {},
   "outputs": [
    {
     "data": {
      "text/plain": [
       "7.800000000000001"
      ]
     },
     "execution_count": 5,
     "metadata": {},
     "output_type": "execute_result"
    }
   ],
   "source": [
    "uni_04 = collections.Counter(ip_04['University/Organization'])\n",
    "df_04 = pd.DataFrame(uni_04.items(), columns=['University/Organization', 'Count'])\n",
    "df_04 = df_04.sort_values(by = ['Count'], ascending = False)\n",
    "len(df_04) * 0.20\n",
    "# df_04\n"
   ]
  },
  {
   "cell_type": "code",
   "execution_count": 6,
   "metadata": {},
   "outputs": [
    {
     "data": {
      "text/plain": [
       "7"
      ]
     },
     "execution_count": 6,
     "metadata": {},
     "output_type": "execute_result"
    }
   ],
   "source": [
    "int(7.888)"
   ]
  },
  {
   "cell_type": "code",
   "execution_count": 10,
   "metadata": {},
   "outputs": [
    {
     "data": {
      "text/plain": [
       "25"
      ]
     },
     "execution_count": 10,
     "metadata": {},
     "output_type": "execute_result"
    }
   ],
   "source": [
    "t= df_04[:7]\n",
    "t['Count'].sum()"
   ]
  },
  {
   "cell_type": "code",
   "execution_count": null,
   "metadata": {},
   "outputs": [],
   "source": [
    "def "
   ]
  }
 ],
 "metadata": {
  "kernelspec": {
   "display_name": "Python 3",
   "language": "python",
   "name": "python3"
  },
  "language_info": {
   "codemirror_mode": {
    "name": "ipython",
    "version": 3
   },
   "file_extension": ".py",
   "mimetype": "text/x-python",
   "name": "python",
   "nbconvert_exporter": "python",
   "pygments_lexer": "ipython3",
   "version": "3.6.9"
  }
 },
 "nbformat": 4,
 "nbformat_minor": 4
}
